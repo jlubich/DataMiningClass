{
 "cells": [
  {
   "cell_type": "markdown",
   "metadata": {},
   "source": [
    "# Chicago Cubs Comeback - The season that led the 2016 World Series Championship"
   ]
  },
  {
   "cell_type": "markdown",
   "metadata": {},
   "source": [
    "## Business Understanding"
   ]
  },
  {
   "cell_type": "markdown",
   "metadata": {},
   "source": [
    "### Background"
   ]
  },
  {
   "cell_type": "markdown",
   "metadata": {},
   "source": [
    "The Chicago Cubs won the 2016 baseball World Series Championship. Prior to the 2016 baseball World Series victory, the Chicago Cubs had not won in 108 years (1908 and 1907 World Series Championship). This analysis focuses on a deep dive study on Chicago Cubs' 2016 season and the \n",
    "\n",
    "The dataset used in this analysis is a subset dataset from a much more comprehensive dataset.  The comprehensive dataset includes all the games and plays for <font color=blue>ALL</font> the teams in the 2016 regular season and post season. Since the Chicago Cubs won this 2016 World Series Championship and the team had not won in a long period of time, it is interesting to know what trends and patterns made this achievement possible. Therefore, the dataset presented in this analysis only focuses on the Chicago Cubs 2016 games in the regular season and post season (playoffs)."
   ]
  },
  {
   "cell_type": "markdown",
   "metadata": {},
   "source": [
    "To be deleted - Describe the purpose of the data set you selected (i.e., why was this data collected in the first place?). Describe how you would define and measure the outcomes from the dataset. That is, why is this data important and how do you know if you have mined useful knowledge from the dataset? How would you measure the effectiveness of a good prediction algorithm? Be specific."
   ]
  },
  {
   "cell_type": "markdown",
   "metadata": {},
   "source": [
    "# Data Structure"
   ]
  },
  {
   "cell_type": "markdown",
   "metadata": {},
   "source": [
    "## Data Meaning Type"
   ]
  },
  {
   "cell_type": "markdown",
   "metadata": {
    "collapsed": true
   },
   "source": [
    "Transaction, Record, Sequential, Graph\n",
    "Discrete: \n",
    "+ Nominal, \n",
    "+ Ordinal,\n",
    "+ Binary \n",
    "Continuous: Interval & Ratio\n",
    "+ Interval (temp in F), \n",
    "+ Ratio (contains absolute zero)\n",
    "\n",
    "something here\n",
    "\n",
    "### Data Columns - Overall Game\n",
    "\n",
    "|Section|Column  |Description  |Data Type  |Example Values  |Derived Y/N|\n",
    "|------ |------ |---------- |--------- |-------------- |-----|\n",
    "|Overall Game|game-id |A unique identifier assigned to each game |Nominal | these are GUIDs, so no particular range |N|\n",
    "|Overall Game|startTime |The date and time the game started |Interval | These are in 2016 mainly at noon or 6 PM |N|\n",
    "|Overall Game|attendance |The attedance of the game |Ratio | Approximately 30-40k with a left skew |N|\n",
    "|Overall Game|dayNight |Indicate of a day or night game |Binary | D = Day, N = Night|N|\n",
    "|Overall Game|duration |The overall elapsed time of the game |Ratio | Typical game is about 3 hours|N|\n",
    "|Overall Game|opponent |The name of the team playing against the Cubs |Nominal | MLB Teams like: Twins, Rangers, etc.|Y|\n",
    "|Overall Game|HomeAway |Indicates a Home or Away game |Binary | H = Home, A = Away |Y|\n",
    "|Overall Game|VenueName |The Stadium the game was located at |Nominal | Wrigley Field, etc. |N|\n",
    "|Overall Score|homeFinalRuns |The score for the home team |Ratio | 0, 1, 2... |N|\n",
    "|Overall Score|awayFinalRuns |The score for the away team |Ratio | 0, 1, 2... |N|\n",
    "|Overall Score|CubsFinalRuns |The score for the Cubs |Ratio | 0, 1, 2... |Y|\n",
    "|Overall Score|OpponentFinalRuns |The score for the opposing team |Ratio | 0, 1, 2... |Y|\n",
    "|Overall Hits|homeFinalHits |The number of hits for the home team |Ratio | 0, 1, 2... |N|\n",
    "|Overall Hits|awayFinalHits |The number of hits for the away team |Ratio | 0, 1, 2... |N|\n",
    "|Overall Hits|CubsFinalHits |The number of hits for the Cubs |Ratio | 0, 1, 2... |Y|\n",
    "|Overall Hits|OpponentFinalHits |The number of hits for the opposing team |Ratio | 0, 1, 2... |Y|\n",
    "|Overall Errors|homeFinalErrors |The number of Errors for the home team |Ratio | 0, 1, 2... |N|\n",
    "|Overall Errors|awayFinalErrors |The number of Errors for the away team |Ratio | 0, 1, 2... |N|\n",
    "|Overall Errors|CubsFinalErrors |The number of Errors for the Cubs |Ratio | 0, 1, 2... |Y|\n",
    "|Overall Errors|OpponentFinalErrors |The number of Errors for the opposing team |Ratio | 0, 1, 2... |Y|\n",
    "\n",
    "### Data Columns - Inning Details\n",
    "Each game consists of 9 innings where each team get a turn to either field or bat. Innings are divided into the two parts by half's called TOP and BOTTOM, where during the TOP of the inning the away team hits while the home team fields. During the BOTTOM the teams switch. At the end of 9 innings whoever has the most \"Runs\" wins. In the event of a tie, the game continues with additional innings until there is a winner.\n",
    "\n",
    "|Section|Column  |Description  |Data Type  |Example Values  |Derived Y/N|\n",
    "|------ |------ |---------- |--------- |-------------- |-----|\n",
    "|Inning Details|InningNumber |A sequential number for each inning. |Ordinal | Typically 1-9, overtime > 9 |N|\n",
    "|Inning Details|homeFinalRunsForInning |The total number of runs scored for the home team during the inning |Ratio | 0, 1, 2... |N|\n",
    "|Inning Details|awayFinalRunsForInning |The total number of runs scored for the away team during the inning |Ratio | 0, 1, 2... |N|\n",
    "|Inning Details|CubsFinalRunsForInning |The total number of runs scored for the Cubs during the inning |Ratio | 0, 1, 2... |Y|\n",
    "|Inning Details|OpponentFinalRunsForInning |The total number of runs scored for the opposing team during the inning |Ratio | 0, 1, 2... |Y|\n",
    "|Inning Half|inningHalf |Indicates the top or bottom of an inning, and thus which team is at bat. Top goes before the bottom. |Ordinal | TOP = Top, BOT = Bottom |N|\n",
    "|Inning Half|inningEventType |Indicates an AT_BAT or LINEUP event has occured. (See additional notes below)|Nominal | AT_BAT, LINEUP |N|\n",
    "|Inning Half|inningHalfEventSequenceNumber |A sequential number for each \"Inning Event\" within a half. This typically increments when a new batter comes up, however it can also be incremented when the pitcher is changed. |Ordinal | 0, 1, 2... |N|\n",
    "\n",
    "*Notes on inningEventType:  the recorded baseball stats are either AT_BAT or LINEUP. An overwhelming majority of the data is AT_BAT and describes the outcomes of the batting scenario. LINEUP values are used to indicate a change to the pitcher or other player in the game. We expect to do analysis mainly on AT_BAT data and will most likely ignore/filter out LINEUP details. \n",
    "\n",
    "### Data Columns - At Bat Event: State, Pitcher and Hitter\n",
    "When a player is up to bat (defined when inningEventType =  AT_BAT), the pitcher will pitch the ball and the batter will decide to swing or not. For each pitch there are measures for the type of pitch, it's speed and where it was located. The outcomes of the \"at bat\" event capture whether the batter decided to swing at the ball or not, if they hit it where it went and the overall outcome of the event to the score. The main measures being tracked for each player are the ball and strike counts. If a batter recieives 4 balls, then they automatically get to walk to first base. If a batter receives 3 strikes they are out, and the next batter is up (note: the inningHalfEventSequenceNumber will be then be incremented).\n",
    "\n",
    "|Section|Column  |Description  |Data Type  |Example Values  |Derived Y/N|\n",
    "|------ |------ |---------- |--------- |-------------- |-----|\n",
    "|At Bat Detail|atBatEventSequenceNumber |A sequential number for each event within the \"at bat\" event. |Ordinal | 0, 1, 2... |N|\n",
    "|At Bat Detail|atBatEventType |Most events during \"at bat\" are a pitch, however there are sometimes steals that occur even if the pitcher hasn't thrown a ball.  |Nominal | PITCH, STEAL and \"blank\" (see notes below) |N|\n",
    "|At Bat Detail|status|Normal events are marked \"official\", but a coach can ask for a review of a play and the event will either be \"overturned\" or \"upheld\". |Nominal | official, overturned, upheld and \"blank\" (see notes below) |N|\n",
    "|At Bat Pitcher|pitcherFirstName|This is the first name of the pitcher for the at bat event. |Nominal | Adam, Jonathan, Steven|N|\n",
    "|At Bat Pitcher|pitcherLastName|This is the last name of the pitcher for the at bat event. |Nominal | Smith, Thornburg, Torres|N|\n",
    "|At Bat Pitcher|pitcherThrowHand|This is the dominate hand the pitcher typically uses. |Binomial | L or R |N|\n",
    "|At Bat Pitcher|pitcherPitchCount|This is the cumulative number of pitches the pitcher has thrown within this game. This approximately measures the exhaustion level of the pitcher. |Ratio | 0, 1, 2... |N|\n",
    "|At Bat Hitter|hitterFirstName|This is the first name of the hitter for the at bat event. |Nominal |  Adam, Jonathan, Steven|N|\n",
    "|At Bat Hitter|hitterLastName|This is the last name of the hitter for the at bat event. |Nominal | Smith, Thornburg, Torres|N|\n",
    "|At Bat Hitter|hitterWeight|This is the weight in pounds of the hitter. |Ratio | typical values are 180-240 |N|\n",
    "|At Bat Hitter|hitterHeight|This is the height in inches of the hitter. |Ratio | typical values are 70-77 |N|\n",
    "|At Bat Hitter|hitterBatHand|This is the dominate hand the batter typically uses to hit with. This is not the actual hand that the hit was performed with as there are \"B\" values which say this hitter could be hitting with either hand.  |Nominal | R = right, L = left & B = switch |N|\n",
    "\n",
    "### Data Columns - At Bat Event: Pitch, Hit and Outcome\n",
    "|Section|Column  |Description  |Data Type  |Example Values  |Derived Y/N|\n",
    "|------ |------ |---------- |--------- |-------------- |-----|\n",
    "|At Bat Pitch|pitchTypeDescription|This is a type of pitch thrown, and describes the approximate motion of the ball. |Nominal | Fastball, Slider, Sinker...|N|\n",
    "|At Bat Pitch|pitchSpeed|This is the speed of the pitch measured in MPH. |Ratio | typically in the 70-100 MPH range|N|\n",
    "|At Bat Pitch|pitchZone|This is the location the ball was when it crossed the home plate. |Nominal | values are 0-13, but are really categorical as zones on a map|N|\n",
    "|At Bat Hit|hitType|If the hitter actually hit the ball this is a description what type of travel the ball had, such as a fly ball, pop-up, line drive or ground ball.  |Nominal | FB, GB, LD & PU are decoded in the description|N|\n",
    "|At Bat Hit|hitLocation|If the hitter actually hit, this is the location the ball landed on the field. |Nominal | values are 0-35, but are really categorical as zones on a map|N|\n",
    "|At Bat Outcome|outcomeDescription|This is a description of what outcome occured as a result of the pitch and the batter's decision to try and hit the ball or not. |Nominal | Ball, Strike Looking, Strike Swinging, Foul Ball, Single, Fly Out...|N|\n",
    "|At Bat Outcome|startingBalls|Measures the number of pitches that were balls at the beginning of the at bat event. |Ratio | 0, 1, 2, 3 |N|\n",
    "|At Bat Outcome|Balls|Measures the number of pitches that were balls at the end of the at bat event. |Ratio | 0, 1, 2, 3, 4 |N|\n",
    "|At Bat Outcome|startingStrikes|Measures the number of pitches that were strikes at the beginning of the at bat event. |Ratio | 0, 1, 2 |N|\n",
    "|At Bat Outcome|Strikes|Measures the number of pitches that were strikes at the end of the at bat event. |Ratio | 0, 1, 2, 3 |N|\n",
    "|At Bat Outcome|startingOuts|Measures the number of outs accumulated in the inning half at the beginning of the at bat event. |Ratio | 0, 1, 2 |N|\n",
    "|At Bat Outcome|Outs|Measures the number of outs accumulated in the inning half at the end of the at bat event. |Ratio | 0, 1, 2 |N|\n",
    "\n",
    "\n",
    "\n",
    "\n",
    "\n",
    "*Blanks occur during \"lineup\" inning events (see inningEventType notes).\n",
    "\n",
    "New stuff"
   ]
  },
  {
   "cell_type": "code",
   "execution_count": 3,
   "metadata": {
    "collapsed": true
   },
   "outputs": [],
   "source": [
    "# Importing relevant libraries to mine the Chicago Cubs 2016 Season\n",
    "\n",
    "import pandas as pd\n",
    "import numpy as np \n",
    "import matplotlib \n",
    "import matplotlib.pyplot as plt\n",
    "import seaborn as sns\n",
    "%matplotlib inline\n",
    "\n",
    "import warnings\n",
    "warnings.filterwarnings('ignore')"
   ]
  },
  {
   "cell_type": "markdown",
   "metadata": {},
   "source": [
    "## Data Quality"
   ]
  },
  {
   "cell_type": "markdown",
   "metadata": {},
   "source": [
    "### Importing datasets and data consolidation"
   ]
  },
  {
   "cell_type": "code",
   "execution_count": 4,
   "metadata": {
    "collapsed": true
   },
   "outputs": [],
   "source": [
    "#Step 1: Importing Chicago Cubs' 'Away' games data\n",
    "\n",
    "cubs_away_url='https://raw.githubusercontent.com/jlubich/DataMiningClass/master/BaseballProject/Data/Cubs/cubs_away_reg.csv'\n",
    "cubs_away_reg_df = pd.read_csv(cubs_away_url)\n",
    "\n",
    "#Step 2: Importing Chicago Cubs' 'Home' games data\n",
    "\n",
    "cubs_home_url = 'https://raw.githubusercontent.com/jlubich/DataMiningClass/master/BaseballProject/Data/Cubs/cubs_home_reg.csv'\n",
    "cubs_home_reg_df = pd.read_csv(cubs_home_url)\n",
    "\n",
    "#Step 3: Importing Chicago Cubs' post season data\n",
    "\n",
    "cubs_post_season_url='https://raw.githubusercontent.com/jlubich/DataMiningClass/master/BaseballProject/Data/Cubs/post_season_cubs2.csv'\n",
    "post_season_cubs_df = pd.read_csv(cubs_post_season_url)\n",
    "\n",
    "#Step 4 This line of code combines all three datasets: cubs_away_reg_df,cubs_home_reg_df and post_season_cubs_df. This way we can create statistics from a combined dataset\n",
    "cubs_reg_post_df = pd.concat([cubs_away_reg_df,cubs_home_reg_df, post_season_cubs_df], axis = 0)"
   ]
  },
  {
   "cell_type": "code",
   "execution_count": 5,
   "metadata": {},
   "outputs": [
    {
     "name": "stdout",
     "output_type": "stream",
     "text": [
      "<class 'pandas.core.frame.DataFrame'>\n",
      "Int64Index: 54877 entries, 0 to 3120\n",
      "Columns: 145 entries, gameId to lineupOrder\n",
      "dtypes: float64(1), int64(47), object(97)\n",
      "memory usage: 61.1+ MB\n"
     ]
    }
   ],
   "source": [
    "cubs_reg_post_df.info()"
   ]
  },
  {
   "cell_type": "code",
   "execution_count": 6,
   "metadata": {
    "collapsed": true
   },
   "outputs": [],
   "source": [
    "# After the information is loaded, further cleanup process. The cubs_reg_post_df contains just the variables that are needed\n",
    "\n",
    "cubs_reg_post_df = cubs_reg_post_df.drop(['seasonId','year','gameStatus','awayTeamId','homeTeamId','venueId','venueSurface','venueZip','venueMarket',\n",
    "'venueOutfieldDistances','createdAt','updatedAt','pitchType','rob0_start','rob0_end','rob0_isOut','rob0_outcomeId',\n",
    "'rob0_outcomeDescription','rob1_start','rob1_end','rob1_isOut','rob1_outcomeId','rob1_outcomeDescription',\n",
    "'rob2_start','rob2_end','rob2_isOut','rob2_outcomeId','rob2_outcomeDescription','rob3_start','rob3_end',\n",
    "'rob3_isOut','rob3_outcomeId','rob3_outcomeDescription','awayFielder1','awayFielder2','awayFielder3','awayFielder4',\n",
    "'awayFielder5','awayFielder6','awayFielder7','awayFielder8','awayFielder9','awayFielder10','awayFielder11',\n",
    "'awayFielder12','awayBatter1','awayBatter2','awayBatter3','awayBatter4','awayBatter5','awayBatter6','awayBatter7',\n",
    "'awayBatter8','awayBatter9','homeFielder1','homeFielder2','homeFielder3','homeFielder4','homeFielder5',\n",
    "'homeFielder6','homeFielder7','homeFielder8','homeFielder9','homeFielder10','homeFielder11','homeFielder12',\n",
    "'homeBatter1','homeBatter2','homeBatter3','homeBatter4','homeBatter5','homeBatter6','homeBatter7','homeBatter8',\n",
    "'homeBatter9','lineupTeamId','lineupPlayerId','lineupPosition','lineupOrder'], axis =1)"
   ]
  },
  {
   "cell_type": "code",
   "execution_count": 7,
   "metadata": {
    "collapsed": true
   },
   "outputs": [],
   "source": [
    "cubs_reg_post_sub_sort_df = cubs_reg_post_df.sort_values(['gameId','inningNumber','inningHalf','inningHalfEventSequenceNumber',\n",
    "                                 'hitterId','atBatEventSequenceNumber', 'outcomeDescription'],ascending=[True, True, False, True\n",
    "                                                                                                       , True, True, True])"
   ]
  },
  {
   "cell_type": "code",
   "execution_count": 8,
   "metadata": {
    "collapsed": true
   },
   "outputs": [],
   "source": [
    "# Remove unused rows - LINEUP\n",
    "cubs_reg_post_sub_sort_df = cubs_reg_post_sub_sort_df[cubs_reg_post_sub_sort_df['inningEventType'] != 'LINEUP'] \n",
    "\n",
    "# Remove unused rows - STEALS\n",
    "cubs_reg_post_sub_sort_df = cubs_reg_post_sub_sort_df[cubs_reg_post_sub_sort_df['atBatEventType'] != 'STEAL'] \n"
   ]
  },
  {
   "cell_type": "markdown",
   "metadata": {},
   "source": [
    "## New Features\n",
    "\n",
    "This is where we make the Cubs specific columns"
   ]
  },
  {
   "cell_type": "code",
   "execution_count": 9,
   "metadata": {
    "collapsed": true
   },
   "outputs": [],
   "source": [
    "def home(x):\n",
    "    if x == 'Cubs':\n",
    "        return 'H'\n",
    "    return 'A'\n",
    "\n",
    "def opponent(h, a):\n",
    "    if h != 'Cubs':\n",
    "        return h\n",
    "    return a\n",
    "\n",
    "def scoreCubs(h, hf, af):\n",
    "    if h == 'H':\n",
    "        return hf\n",
    "    elif h == 'A':\n",
    "        return af\n",
    "    \n",
    "def scoreOppo(h, hf, af):\n",
    "    if h == 'H':\n",
    "        return af\n",
    "    elif h == 'A':\n",
    "        return hf\n",
    "\n",
    "def hitsCubs(h, hf, af):\n",
    "    if h == 'H':\n",
    "        return hf\n",
    "    elif h == 'A':\n",
    "        return af\n",
    "\n",
    "def hitsOppo(h, hf, af):\n",
    "    if h == 'H':\n",
    "        return af\n",
    "    elif h == 'A':\n",
    "        return hf\n",
    "    \n",
    "def errCubs(h, hf, af):\n",
    "    if h == 'H':\n",
    "        return hf\n",
    "    elif h == 'A':\n",
    "        return af\n",
    "\n",
    "def errOppo(h, hf, af):\n",
    "    if h == 'H':\n",
    "        return af\n",
    "    elif h == 'A':\n",
    "        return hf"
   ]
  },
  {
   "cell_type": "code",
   "execution_count": 10,
   "metadata": {
    "collapsed": true
   },
   "outputs": [],
   "source": [
    "cubs_reg_post_sub_sort_df['HomeAway'] = cubs_reg_post_sub_sort_df['homeTeamName'].apply(home)\n",
    "cubs_reg_post_sub_sort_df['Opponent'] = cubs_reg_post_sub_sort_df.apply(\n",
    "                                        lambda row: opponent(row['homeTeamName'], row['awayTeamName']), axis =1)\n",
    "cubs_reg_post_sub_sort_df['CubsFinalRuns']= cubs_reg_post_sub_sort_df.apply(lambda row: scoreCubs(row['HomeAway'], \n",
    "                                                                                                row['homeFinalRuns']\n",
    "                                                                                                ,row['awayFinalRuns']), \n",
    "                                                                             axis =1)\n",
    "cubs_reg_post_sub_sort_df['OpponentFinalRuns']=cubs_reg_post_sub_sort_df.apply( lambda row: scoreOppo(row['HomeAway'], \n",
    "                                                                                                      row['homeFinalRuns']\n",
    "                                                                                              ,row['awayFinalRuns']),\n",
    "                                                                                 axis =1)\n",
    "cubs_reg_post_sub_sort_df['CubsFinalHits'] = cubs_reg_post_sub_sort_df.apply( lambda row: hitsCubs(row['HomeAway'], row['homeFinalHits']\n",
    "                                                                                              ,row['awayFinalHits']), axis =1)\n",
    "cubs_reg_post_sub_sort_df['OpponentFinalHits'] = cubs_reg_post_sub_sort_df.apply( lambda row: hitsOppo(row['HomeAway'], row['homeFinalHits']\n",
    "                                                                                              ,row['awayFinalHits']), \n",
    "                                                                                  axis =1)\n",
    "cubs_reg_post_sub_sort_df['CubsFinalErrors'] = cubs_reg_post_sub_sort_df.apply( lambda row: errCubs(row['HomeAway'], \n",
    "                                                                                                    row['homeFinalErrors']\n",
    "                                                                                              ,row['awayFinalErrors']), axis =1)\n",
    "cubs_reg_post_sub_sort_df['OpponentFinalErrors'] = cubs_reg_post_sub_sort_df.apply( lambda row: errOppo(row['HomeAway'], \n",
    "                                                                                                row['homeFinalErrors']\n",
    "                                                                                                ,row['awayFinalErrors']), \n",
    "                                                                                    axis =1)"
   ]
  },
  {
   "cell_type": "code",
   "execution_count": null,
   "metadata": {
    "collapsed": true
   },
   "outputs": [],
   "source": []
  },
  {
   "cell_type": "code",
   "execution_count": null,
   "metadata": {
    "collapsed": true
   },
   "outputs": [],
   "source": []
  },
  {
   "cell_type": "code",
   "execution_count": null,
   "metadata": {
    "collapsed": true
   },
   "outputs": [],
   "source": []
  },
  {
   "cell_type": "code",
   "execution_count": null,
   "metadata": {
    "collapsed": true
   },
   "outputs": [],
   "source": []
  },
  {
   "cell_type": "code",
   "execution_count": null,
   "metadata": {
    "collapsed": true
   },
   "outputs": [],
   "source": []
  },
  {
   "cell_type": "code",
   "execution_count": null,
   "metadata": {
    "collapsed": true
   },
   "outputs": [],
   "source": []
  },
  {
   "cell_type": "code",
   "execution_count": null,
   "metadata": {
    "collapsed": true
   },
   "outputs": [],
   "source": []
  },
  {
   "cell_type": "code",
   "execution_count": 11,
   "metadata": {
    "collapsed": true
   },
   "outputs": [],
   "source": [
    "## Final Dataset to be used below\n",
    "cubs_df = cubs_reg_post_sub_sort_df\n",
    "\n",
    "cubs_reg_post_df = cubs_reg_post_sub_sort_df\n",
    "cubs_reg_post_sub_df = cubs_reg_post_sub_sort_df"
   ]
  },
  {
   "cell_type": "markdown",
   "metadata": {},
   "source": [
    "## Simple Statistics"
   ]
  },
  {
   "cell_type": "code",
   "execution_count": 14,
   "metadata": {},
   "outputs": [],
   "source": [
    "## Stacked Bar Chart for Win and Losses\n",
    "## Number of Games by Regular Season\n",
    "## Number of Games in the Post season\n",
    "\n",
    "\n",
    "\n",
    "\n",
    "number_of_games = cubs_df.gameId.nunique()\n",
    "count_of_hitters = cubs_df.hitterId.nunique()\n",
    "#cubs_df.groupby(by='seasonType')"
   ]
  },
  {
   "cell_type": "markdown",
   "metadata": {},
   "source": [
    "### Overall Game Statistics"
   ]
  },
  {
   "cell_type": "code",
   "execution_count": null,
   "metadata": {
    "collapsed": true
   },
   "outputs": [],
   "source": [
    "## Number of Opponents\n",
    "## Number of Wins\n",
    "## Number of Losses"
   ]
  },
  {
   "cell_type": "markdown",
   "metadata": {},
   "source": [
    "### Player Statistics"
   ]
  },
  {
   "cell_type": "code",
   "execution_count": null,
   "metadata": {
    "collapsed": true
   },
   "outputs": [],
   "source": [
    "## Top 10 Players with the most home runs\n",
    "## Top 10 Players with the most hits\n",
    "## Top 10 players making runs"
   ]
  },
  {
   "cell_type": "code",
   "execution_count": 16,
   "metadata": {},
   "outputs": [
    {
     "ename": "SyntaxError",
     "evalue": "invalid syntax (<ipython-input-16-761b4d09cc46>, line 15)",
     "output_type": "error",
     "traceback": [
      "\u001b[1;36m  File \u001b[1;32m\"<ipython-input-16-761b4d09cc46>\"\u001b[1;36m, line \u001b[1;32m15\u001b[0m\n\u001b[1;33m    x=[def unique(cubs_df.seasonType)],\u001b[0m\n\u001b[1;37m         ^\u001b[0m\n\u001b[1;31mSyntaxError\u001b[0m\u001b[1;31m:\u001b[0m invalid syntax\n"
     ]
    }
   ],
   "source": [
    "## Initializing plotly\n",
    "\n",
    "import plotly\n",
    "plotly.tools.set_credentials_file(username='jfzjonathan', api_key='NokT73UTRRHWGKDYpmzW')\n",
    "##plotly.__version__\n",
    "init_notebook_mode(connected=True)\n",
    "from plotly import __version__\n",
    "from plotly.offline import download_plotlyjs, init_notebook_mode, plot, iplot\n",
    "import plotly.graph_objs as go\n",
    "import plotly.figure_factory as ff\n",
    "#import pandas as pd\n",
    "\n",
    "\n",
    "data = [go.Bar(\n",
    "            x=[def unique(cubs_df.seasonType)],\n",
    "            y=[cubs_df.gameId.nunique()]\n",
    "    )]\n",
    "\n",
    "py.iplot(data, filename='basic-bar')\n",
    "\n",
    "\n",
    "#iplot([go.Bar(x= [cubs_df.seasonType], y= [number_of_games])])\n",
    "#iplot([go.Bar(x=[])])"
   ]
  },
  {
   "cell_type": "code",
   "execution_count": null,
   "metadata": {},
   "outputs": [],
   "source": [
    "cubs_reg_post_df.describe()"
   ]
  },
  {
   "cell_type": "code",
   "execution_count": null,
   "metadata": {},
   "outputs": [],
   "source": [
    "cubs_reg_post_sub_df.info()"
   ]
  },
  {
   "cell_type": "code",
   "execution_count": null,
   "metadata": {},
   "outputs": [],
   "source": [
    "cubs_reg_post_sub_df.describe()"
   ]
  },
  {
   "cell_type": "code",
   "execution_count": null,
   "metadata": {},
   "outputs": [],
   "source": [
    "cubs_reg_post_sub_df.head()"
   ]
  },
  {
   "cell_type": "code",
   "execution_count": null,
   "metadata": {
    "collapsed": true
   },
   "outputs": [],
   "source": [
    "cubs_reg_post_sub_sort_df = cubs_reg_post_sub_df.sort_values(['gameId','inningNumber','inningHalf','inningHalfEventSequenceNumber',\n",
    "                                 'hitterId','atBatEventSequenceNumber', 'outcomeDescription'],ascending=[True, True, False, True\n",
    "                                                                                                       , True, True, True])"
   ]
  },
  {
   "cell_type": "code",
   "execution_count": null,
   "metadata": {},
   "outputs": [],
   "source": [
    "cubs_reg_post_sub_sort_df[cubs_reg_post_sub_sort_df['gameId'] == '0024139e-3dde-481b-92f5-a29af99d5ea3']"
   ]
  },
  {
   "cell_type": "code",
   "execution_count": null,
   "metadata": {},
   "outputs": [],
   "source": [
    "cubs_reg_post_sub_sort_df[['gameId','inningNumber','inningHalf','inningHalfEventSequenceNumber',\n",
    "                                 'hitterId','atBatEventSequenceNumber', 'outcomeDescription']].head(292)"
   ]
  },
  {
   "cell_type": "code",
   "execution_count": null,
   "metadata": {},
   "outputs": [],
   "source": [
    "cubs_reg_post_sub_sort_df['OpponentFinalErrors'].value_counts()"
   ]
  },
  {
   "cell_type": "code",
   "execution_count": null,
   "metadata": {
    "collapsed": true
   },
   "outputs": [],
   "source": [
    "#cubs_reg_post_sub_sort_df[cubs_reg_post_sub_sort_df['homeTeamName'] == 'Cubs'].count()"
   ]
  },
  {
   "cell_type": "code",
   "execution_count": null,
   "metadata": {
    "collapsed": true
   },
   "outputs": [],
   "source": [
    "#cubs_reg_post_sub_sort_df[cubs_reg_post_sub_sort_df['homeTeamName'] != 'Cubs'].count()"
   ]
  },
  {
   "cell_type": "code",
   "execution_count": null,
   "metadata": {},
   "outputs": [],
   "source": [
    "cubs_reg_post_sub_sort_df['HomeAway'].value_counts()"
   ]
  },
  {
   "cell_type": "code",
   "execution_count": null,
   "metadata": {
    "collapsed": true
   },
   "outputs": [],
   "source": [
    "#cubs_reg_post_sub_sort_df.drop(['Home'],axis=1, inplace = True)"
   ]
  },
  {
   "cell_type": "code",
   "execution_count": null,
   "metadata": {},
   "outputs": [],
   "source": [
    "cubs_reg_post_sub_sort_df.info()"
   ]
  },
  {
   "cell_type": "code",
   "execution_count": null,
   "metadata": {},
   "outputs": [],
   "source": [
    "cubs_reg_post_sub_sort_df.head()"
   ]
  },
  {
   "cell_type": "code",
   "execution_count": null,
   "metadata": {},
   "outputs": [],
   "source": [
    "plt.figure(figsize=(20, 31))\n",
    "sns.heatmap(cubs_reg_post_sub_sort_df.isnull(), yticklabels=False, cbar = False,  cmap ='viridis')"
   ]
  },
  {
   "cell_type": "code",
   "execution_count": null,
   "metadata": {},
   "outputs": [],
   "source": [
    "plt.figure(figsize=(15,5))\n",
    "sns.countplot(x=cubs_reg_post_sub_sort_df['CubsFinalRuns'])"
   ]
  },
  {
   "cell_type": "code",
   "execution_count": null,
   "metadata": {
    "scrolled": true
   },
   "outputs": [],
   "source": [
    "plt.figure(figsize=(15,5))\n",
    "sns.countplot(x=cubs_reg_post_sub_sort_df['OpponentFinalRuns'])"
   ]
  },
  {
   "cell_type": "code",
   "execution_count": null,
   "metadata": {},
   "outputs": [],
   "source": [
    "cubs_reg_post_sub_sort_df[['HomeAway','homeTeamName','awayTeamName','Opponent','homeFinalRuns','awayFinalRuns'\n",
    "                          ,'CubsFinalRuns','OpponentFinalRuns','homeFinalHits','awayFinalHits','CubsFinalHits'\n",
    "                          ,'OpponentFinalHits','homeFinalErrors','awayFinalErrors','CubsFinalErrors','OpponentFinalErrors']].head(20000)"
   ]
  },
  {
   "cell_type": "code",
   "execution_count": null,
   "metadata": {
    "collapsed": true
   },
   "outputs": [],
   "source": [
    "\n",
    "cubs_df = cubs_reg_post_sub_sort_df[cubs_reg_post_sub_sort_df['inningEventType'] != 'LINEUP'] #.count()"
   ]
  },
  {
   "cell_type": "code",
   "execution_count": null,
   "metadata": {},
   "outputs": [],
   "source": [
    "cubs_df.info()"
   ]
  },
  {
   "cell_type": "code",
   "execution_count": null,
   "metadata": {},
   "outputs": [],
   "source": [
    "plt.figure(figsize=(20, 31))\n",
    "sns.heatmap(cubs_df.isnull(), yticklabels=False, cbar = False,  cmap ='viridis')"
   ]
  },
  {
   "cell_type": "code",
   "execution_count": null,
   "metadata": {},
   "outputs": [],
   "source": [
    "cubs_df['hitType'].value_counts()"
   ]
  },
  {
   "cell_type": "code",
   "execution_count": null,
   "metadata": {},
   "outputs": [],
   "source": [
    "cubs_df['pitchTypeDescription'].value_counts()"
   ]
  },
  {
   "cell_type": "code",
   "execution_count": null,
   "metadata": {
    "collapsed": true
   },
   "outputs": [],
   "source": [
    "#cubs_df['description'].value_counts()"
   ]
  },
  {
   "cell_type": "code",
   "execution_count": null,
   "metadata": {},
   "outputs": [],
   "source": [
    "plt.figure(figsize=(15,5))\n",
    "sns.countplot(x=cubs_df['CubsFinalRuns'], hue = cubs_df['HomeAway'])"
   ]
  },
  {
   "cell_type": "code",
   "execution_count": null,
   "metadata": {},
   "outputs": [],
   "source": [
    "plt.figure(figsize=(15,5))\n",
    "#plt.histplot(x=cubs_df['attendance'], hue = cubs_df['HomeAway'])\n",
    "plt.hist(cubs_df['attendance'],bins = 30, ec='black')\n",
    "plt.show()"
   ]
  },
  {
   "cell_type": "code",
   "execution_count": null,
   "metadata": {},
   "outputs": [],
   "source": [
    "plt.figure(figsize=(15,5))\n",
    "sns.lmplot(data =cubs_df , x = 'pitchSpeed', y = 'strikes', hue = 'HomeAway', palette= 'rainbow')"
   ]
  },
  {
   "cell_type": "code",
   "execution_count": null,
   "metadata": {},
   "outputs": [],
   "source": [
    "plt.figure(figsize=(15,5))\n",
    "sns.boxplot(data =cubs_df , y = 'CubsFinalRuns', x = 'CubsFinalHits')"
   ]
  },
  {
   "cell_type": "code",
   "execution_count": null,
   "metadata": {
    "collapsed": true
   },
   "outputs": [],
   "source": []
  },
  {
   "cell_type": "markdown",
   "metadata": {},
   "source": [
    "## Data Quality"
   ]
  },
  {
   "cell_type": "markdown",
   "metadata": {},
   "source": [
    "To be deleted - Verify data quality: Explain any missing values, duplicate data, and outliers. Are those mistakes? How do you deal with these problems? Give justifications for your methods."
   ]
  },
  {
   "cell_type": "markdown",
   "metadata": {},
   "source": [
    "## Simple Statistics"
   ]
  },
  {
   "cell_type": "markdown",
   "metadata": {},
   "source": [
    "To be deleted - Visualize appropriate statistics (e.g., range, mode, mean, median, variance, counts) for a subset of attributes. Describe anything meaningful you found from this or if you found something potentially interesting. Note: You can also use data from other sources for comparison. Explain why the statistics run are meaningful."
   ]
  },
  {
   "cell_type": "markdown",
   "metadata": {},
   "source": [
    "## Visualize Attributes"
   ]
  },
  {
   "cell_type": "markdown",
   "metadata": {},
   "source": [
    "To be deleted - Visualize the most interesting attributes (at least 5 attributes, your opinion on what is interesting). Important: Interpret the implications for each visualization. Explain for each attribute why the chosen visualization is appropriate."
   ]
  },
  {
   "cell_type": "markdown",
   "metadata": {},
   "source": [
    "## Explore Joint Attributes"
   ]
  },
  {
   "cell_type": "markdown",
   "metadata": {},
   "source": [
    "To be deleted - Visualize relationships between attributes: Look at the attributes via scatter plots, correlation, cross-tabulation, group-wise averages, etc. as appropriate. Explain any interesting relationships."
   ]
  },
  {
   "cell_type": "markdown",
   "metadata": {},
   "source": [
    "## Explore Attributes and Class"
   ]
  },
  {
   "cell_type": "markdown",
   "metadata": {},
   "source": [
    "To be deleted - Identify and explain interesting relationships between features and the class you are trying to predict (i.e., relationships with variables and the target classification)."
   ]
  },
  {
   "cell_type": "markdown",
   "metadata": {},
   "source": [
    "## Exceptional Work"
   ]
  },
  {
   "cell_type": "markdown",
   "metadata": {},
   "source": [
    "To be deleted - You have free reign to provide additional analyses. One idea: implement dimensionality reduction, then visualize and interpret the results."
   ]
  }
 ],
 "metadata": {
  "kernelspec": {
   "display_name": "Python 3",
   "language": "python",
   "name": "python3"
  },
  "language_info": {
   "codemirror_mode": {
    "name": "ipython",
    "version": 3
   },
   "file_extension": ".py",
   "mimetype": "text/x-python",
   "name": "python",
   "nbconvert_exporter": "python",
   "pygments_lexer": "ipython3",
   "version": "3.6.3"
  }
 },
 "nbformat": 4,
 "nbformat_minor": 2
}
