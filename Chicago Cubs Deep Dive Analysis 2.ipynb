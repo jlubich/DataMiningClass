{
 "cells": [
  {
   "cell_type": "markdown",
   "metadata": {},
   "source": [
    "# Chicago Cubs Comeback - The season that led the 2016 World Series Championship"
   ]
  },
  {
   "cell_type": "markdown",
   "metadata": {},
   "source": [
    "## Business Understanding"
   ]
  },
  {
   "cell_type": "markdown",
   "metadata": {},
   "source": [
    "### Background"
   ]
  },
  {
   "cell_type": "markdown",
   "metadata": {},
   "source": [
    "The Chicago Cubs won the 2016 baseball World Series Championship. Prior to the 2016 baseball World Series victory, the Chicago Cubs had not won in 108 years (1908 and 1907 World Series Championship). This analysis focuses on a deep dive study on Chicago Cubs' 2016 season and the \n",
    "\n",
    "The dataset used in this analysis is a subset dataset from a much more comprehensive dataset.  The comprehensive dataset includes all the games and plays for <font color=blue>ALL</font> the teams in the 2016 regular season and post season. Since the Chicago Cubs won this 2016 World Series Championship and the team had not won in a long period of time, it is interesting to know what trends and patterns made this achievement possible. Therefore, the dataset presented in this analysis only focuses on the Chicago Cubs 2016 games in the regular season and post season (playoffs)."
   ]
  },
  {
   "cell_type": "markdown",
   "metadata": {},
   "source": [
    "To be deleted - Describe the purpose of the data set you selected (i.e., why was this data collected in the first place?). Describe how you would define and measure the outcomes from the dataset. That is, why is this data important and how do you know if you have mined useful knowledge from the dataset? How would you measure the effectiveness of a good prediction algorithm? Be specific."
   ]
  },
  {
   "cell_type": "markdown",
   "metadata": {},
   "source": [
    "# Data Structure"
   ]
  },
  {
   "cell_type": "markdown",
   "metadata": {},
   "source": [
    "## Data Meaning Type"
   ]
  },
  {
   "cell_type": "markdown",
   "metadata": {},
   "source": [
    "Transaction, Record, Sequential, Graph\n",
    "Discrete: \n",
    "+ Nominal, \n",
    "+ Ordinal,\n",
    "+ Binary \n",
    "Continuous: Interval & Ratio\n",
    "+ Interval (temp in F), \n",
    "+ Ratio (contains absolute zero)\n",
    "\n",
    "something here\n",
    "\n",
    "### Data Columns - Overall Game\n",
    "\n",
    "|Section|Column  |Description  |Data Type  |Example Values  |Derived Y/N|\n",
    "|------ |------ |---------- |--------- |-------------- |-----|\n",
    "|Overall Game|game-id |A unique identifier assigned to each game |Nominal | these are GUIDs, so no particular range |N|\n",
    "|Overall Game|startTime |The date and time the game started |Interval | These are in 2016 mainly at noon or 6 PM |N|\n",
    "|Overall Game|attendance |The attedance of the game |Ratio | Approximately 30-40k with a left skew |N|\n",
    "|Overall Game|dayNight |Indicate of a day or night game |Binary | D = Day, N = Night|N|\n",
    "|Overall Game|duration |The overall elapsed time of the game |Ratio | Typical game is about 3 hours|N|\n",
    "|Overall Game|opponent |The name of the team playing against the Cubs |Nominal | MLB Teams like: Twins, Rangers, etc.|Y|\n",
    "|Overall Game|HomeAway |Indicates a Home or Away game |Binary | H = Home, A = Away |Y|\n",
    "|Overall Game|VenueName |The Stadium the game was located at |Nominal | Wrigley Field, etc. |N|\n",
    "|Overall Score|homeFinalRuns |The score for the home team |Ratio | 0, 1, 2... |N|\n",
    "|Overall Score|awayFinalRuns |The score for the away team |Ratio | 0, 1, 2... |N|\n",
    "|Overall Score|CubsFinalRuns |The score for the Cubs |Ratio | 0, 1, 2... |Y|\n",
    "|Overall Score|OpponentFinalRuns |The score for the opposing team |Ratio | 0, 1, 2... |Y|\n",
    "|Overall Hits|homeFinalHits |The number of hits for the home team |Ratio | 0, 1, 2... |N|\n",
    "|Overall Hits|awayFinalHits |The number of hits for the away team |Ratio | 0, 1, 2... |N|\n",
    "|Overall Hits|CubsFinalHits |The number of hits for the Cubs |Ratio | 0, 1, 2... |Y|\n",
    "|Overall Hits|OpponentFinalHits |The number of hits for the opposing team |Ratio | 0, 1, 2... |Y|\n",
    "|Overall Errors|homeFinalErrors |The number of Errors for the home team |Ratio | 0, 1, 2... |N|\n",
    "|Overall Errors|awayFinalErrors |The number of Errors for the away team |Ratio | 0, 1, 2... |N|\n",
    "|Overall Errors|CubsFinalErrors |The number of Errors for the Cubs |Ratio | 0, 1, 2... |Y|\n",
    "|Overall Errors|OpponentFinalErrors |The number of Errors for the opposing team |Ratio | 0, 1, 2... |Y|\n",
    "\n",
    "### Data Columns - Inning Details\n",
    "Each game consists of 9 innings where each team get a turn to either field or bat. Innings are divided into the two parts by half's called TOP and BOTTOM, where during the TOP of the inning the away team hits while the home team fields. During the BOTTOM the teams switch. At the end of 9 innings whoever has the most \"Runs\" wins. In the event of a tie, the game continues with additional innings until there is a winner.\n",
    "\n",
    "|Section|Column  |Description  |Data Type  |Example Values  |Derived Y/N|\n",
    "|------ |------ |---------- |--------- |-------------- |-----|\n",
    "|Inning Details|InningNumber |A sequential number for each inning. |Ordinal | Typically 1-9, overtime > 9 |N|\n",
    "|Inning Details|homeFinalRunsForInning |The total number of runs scored for the home team during the inning |Ratio | 0, 1, 2... |N|\n",
    "|Inning Details|awayFinalRunsForInning |The total number of runs scored for the away team during the inning |Ratio | 0, 1, 2... |N|\n",
    "|Inning Details|CubsFinalRunsForInning |The total number of runs scored for the Cubs during the inning |Ratio | 0, 1, 2... |Y|\n",
    "|Inning Details|OpponentFinalRunsForInning |The total number of runs scored for the opposing team during the inning |Ratio | 0, 1, 2... |Y|\n",
    "|Inning Half|inningHalf |Indicates the top or bottom of an inning, and thus which team is at bat. Top goes before the bottom. |Ordinal | TOP = Top, BOT = Bottom |N|\n",
    "|Inning Half|inningEventType |Indicates an AT_BAT or LINEUP event has occured. (See additional notes below)|Nominal | AT_BAT, LINEUP |N|\n",
    "|Inning Half|inningHalfEventSequenceNumber |A sequential number for each \"Inning Event\" within a half. This typically increments when a new batter comes up, however it can also be incremented when the pitcher is changed. |Ordinal | 0, 1, 2... |N|\n",
    "\n",
    "*Notes on inningEventType:  the recorded baseball stats are either AT_BAT or LINEUP. An overwhelming majority of the data is AT_BAT and describes the outcomes of the batting scenario. LINEUP values are used to indicate a change to the pitcher or other player in the game. We expect to do analysis mainly on AT_BAT data and will most likely ignore/filter out LINEUP details. \n",
    "\n",
    "### Data Columns - At Bat Event: State, Pitcher and Hitter\n",
    "When a player is up to bat (defined when inningEventType =  AT_BAT), the pitcher will pitch the ball and the batter will decide to swing or not. For each pitch there are measures for the type of pitch, it's speed and where it was located. The outcomes of the \"at bat\" event capture whether the batter decided to swing at the ball or not, if they hit it where it went and the overall outcome of the event to the score. The main measures being tracked for each player are the ball and strike counts. If a batter recieives 4 balls, then they automatically get to walk to first base. If a batter receives 3 strikes they are out, and the next batter is up (note: the inningHalfEventSequenceNumber will be then be incremented).\n",
    "\n",
    "|Section|Column  |Description  |Data Type  |Example Values  |Derived Y/N|\n",
    "|------ |------ |---------- |--------- |-------------- |-----|\n",
    "|At Bat Detail|atBatEventSequenceNumber |A sequential number for each event within the \"at bat\" event. |Ordinal | 0, 1, 2... |N|\n",
    "|At Bat Detail|atBatEventType |Most events during \"at bat\" are a pitch, however there are sometimes steals that occur even if the pitcher hasn't thrown a ball.  |Nominal | PITCH, STEAL and \"blank\" (see notes below) |N|\n",
    "|At Bat Detail|status|Normal events are marked \"official\", but a coach can ask for a review of a play and the event will either be \"overturned\" or \"upheld\". |Nominal | official, overturned, upheld and \"blank\" (see notes below) |N|\n",
    "|At Bat Pitcher|pitcherFirstName|This is the first name of the pitcher for the at bat event. |Nominal | Adam, Jonathan, Steven|N|\n",
    "|At Bat Pitcher|pitcherLastName|This is the last name of the pitcher for the at bat event. |Nominal | Smith, Thornburg, Torres|N|\n",
    "|At Bat Pitcher|pitcherThrowHand|This is the dominate hand the pitcher typically uses. |Binomial | L or R |N|\n",
    "|At Bat Pitcher|pitcherPitchCount|This is the cumulative number of pitches the pitcher has thrown within this game. This approximately measures the exhaustion level of the pitcher. |Ratio | 0, 1, 2... |N|\n",
    "|At Bat Hitter|hitterFirstName|This is the first name of the hitter for the at bat event. |Nominal |  Adam, Jonathan, Steven|N|\n",
    "|At Bat Hitter|hitterLastName|This is the last name of the hitter for the at bat event. |Nominal | Smith, Thornburg, Torres|N|\n",
    "|At Bat Hitter|hitterWeight|This is the weight in pounds of the hitter. |Ratio | typical values are 180-240 |N|\n",
    "|At Bat Hitter|hitterHeight|This is the height in inches of the hitter. |Ratio | typical values are 70-77 |N|\n",
    "|At Bat Hitter|hitterBatHand|This is the dominate hand the batter typically uses to hit with. This is not the actual hand that the hit was performed with as there are \"B\" values which say this hitter could be hitting with either hand.  |Nominal | R = right, L = left & B = switch |N|\n",
    "\n",
    "### Data Columns - At Bat Event: Pitch, Hit and Outcome\n",
    "|Section|Column  |Description  |Data Type  |Example Values  |Derived Y/N|\n",
    "|------ |------ |---------- |--------- |-------------- |-----|\n",
    "|At Bat Pitch|pitchTypeDescription|This is a type of pitch thrown, and describes the approximate motion of the ball. |Nominal | Fastball, Slider, Sinker...|N|\n",
    "|At Bat Pitch|pitchSpeed|This is the speed of the pitch measured in MPH. |Ratio | typically in the 70-100 MPH range|N|\n",
    "|At Bat Pitch|pitchZone|This is the location the ball was when it crossed the home plate. |Nominal | values are 0-13, but are really categorical as zones on a map|N|\n",
    "|At Bat Hit|hitType|If the hitter actually hit the ball this is a description what type of travel the ball had, such as a fly ball, pop-up, line drive or ground ball.  |Nominal | FB, GB, LD & PU are decoded in the description|N|\n",
    "|At Bat Hit|hitLocation|If the hitter actually hit, this is the location the ball landed on the field. |Nominal | values are 0-35, but are really categorical as zones on a map|N|\n",
    "|At Bat Outcome|outcomeDescription|This is a description of what outcome occured as a result of the pitch and the batter's decision to try and hit the ball or not. |Nominal | Ball, Strike Looking, Strike Swinging, Foul Ball, Single, Fly Out...|N|\n",
    "|At Bat Outcome|startingBalls|Measures the number of pitches that were balls at the beginning of the at bat event. |Ratio | 0, 1, 2, 3 |N|\n",
    "|At Bat Outcome|Balls|Measures the number of pitches that were balls at the end of the at bat event. |Ratio | 0, 1, 2, 3, 4 |N|\n",
    "|At Bat Outcome|startingStrikes|Measures the number of pitches that were strikes at the beginning of the at bat event. |Ratio | 0, 1, 2 |N|\n",
    "|At Bat Outcome|Strikes|Measures the number of pitches that were strikes at the end of the at bat event. |Ratio | 0, 1, 2, 3 |N|\n",
    "|At Bat Outcome|startingOuts|Measures the number of outs accumulated in the inning half at the beginning of the at bat event. |Ratio | 0, 1, 2 |N|\n",
    "|At Bat Outcome|Outs|Measures the number of outs accumulated in the inning half at the end of the at bat event. |Ratio | 0, 1, 2 |N|\n",
    "\n",
    "\n",
    "\n",
    "\n",
    "\n",
    "*Blanks occur during \"lineup\" inning events (see inningEventType notes).\n",
    "\n",
    "New stuff"
   ]
  },
  {
   "cell_type": "markdown",
   "metadata": {},
   "source": [
    "## New Features"
   ]
  },
  {
   "cell_type": "markdown",
   "metadata": {},
   "source": [
    "### Description of new features"
   ]
  },
  {
   "cell_type": "markdown",
   "metadata": {},
   "source": [
    "### Code that makes the new features"
   ]
  },
  {
   "cell_type": "code",
   "execution_count": 2,
   "metadata": {},
   "outputs": [],
   "source": [
    "import pandas as pd\n",
    "import numpy as np \n",
    "import matplotlib \n",
    "import matplotlib.pyplot as plt\n",
    "import seaborn as sns\n",
    "%matplotlib inline"
   ]
  },
  {
   "cell_type": "markdown",
   "metadata": {},
   "source": [
    "## Data Quality"
   ]
  },
  {
   "cell_type": "markdown",
   "metadata": {},
   "source": [
    "To be deleted - Verify data quality: Explain any missing values, duplicate data, and outliers. Are those mistakes? How do you deal with these problems? Give justifications for your methods."
   ]
  },
  {
   "cell_type": "markdown",
   "metadata": {},
   "source": [
    "## Simple Statistics"
   ]
  },
  {
   "cell_type": "markdown",
   "metadata": {},
   "source": [
    "To be deleted - Visualize appropriate statistics (e.g., range, mode, mean, median, variance, counts) for a subset of attributes. Describe anything meaningful you found from this or if you found something potentially interesting. Note: You can also use data from other sources for comparison. Explain why the statistics run are meaningful."
   ]
  },
  {
   "cell_type": "markdown",
   "metadata": {},
   "source": [
    "## Visualize Attributes"
   ]
  },
  {
   "cell_type": "markdown",
   "metadata": {},
   "source": [
    "To be deleted - Visualize the most interesting attributes (at least 5 attributes, your opinion on what is interesting). Important: Interpret the implications for each visualization. Explain for each attribute why the chosen visualization is appropriate."
   ]
  },
  {
   "cell_type": "markdown",
   "metadata": {},
   "source": [
    "## Explore Joint Attributes"
   ]
  },
  {
   "cell_type": "markdown",
   "metadata": {},
   "source": [
    "To be deleted - Visualize relationships between attributes: Look at the attributes via scatter plots, correlation, cross-tabulation, group-wise averages, etc. as appropriate. Explain any interesting relationships."
   ]
  },
  {
   "cell_type": "markdown",
   "metadata": {},
   "source": [
    "## Explore Attributes and Class"
   ]
  },
  {
   "cell_type": "markdown",
   "metadata": {},
   "source": [
    "To be deleted - Identify and explain interesting relationships between features and the class you are trying to predict (i.e., relationships with variables and the target classification)."
   ]
  },
  {
   "cell_type": "markdown",
   "metadata": {},
   "source": [
    "## Exceptional Work"
   ]
  },
  {
   "cell_type": "markdown",
   "metadata": {},
   "source": [
    "To be deleted - You have free reign to provide additional analyses. One idea: implement dimensionality reduction, then visualize and interpret the results."
   ]
  }
 ],
 "metadata": {
  "kernelspec": {
   "display_name": "Python 3",
   "language": "python",
   "name": "python3"
  },
  "language_info": {
   "codemirror_mode": {
    "name": "ipython",
    "version": 3
   },
   "file_extension": ".py",
   "mimetype": "text/x-python",
   "name": "python",
   "nbconvert_exporter": "python",
   "pygments_lexer": "ipython3",
   "version": "3.6.4"
  }
 },
 "nbformat": 4,
 "nbformat_minor": 2
}
