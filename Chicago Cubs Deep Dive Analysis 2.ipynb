{
 "cells": [
  {
   "cell_type": "markdown",
   "metadata": {},
   "source": [
    "# Chicago Cubs Comeback - The season that led the 2016 World Series Championship"
   ]
  },
  {
   "cell_type": "markdown",
   "metadata": {},
   "source": [
    "## Business Understanding"
   ]
  },
  {
   "cell_type": "markdown",
   "metadata": {},
   "source": [
    "The Chicago Cubs won the 2016 baseball World Series Championship. Prior to the 2016 baseball World Series victory, the Chicago Cubs had not won in 108 years (1908 and 1907 World Series Championship). This analysis focuses on a deep dive study on Chicago Cubs' 2016 season and the progression of statistics that led the team win the World Series Championship.\n",
    "\n",
    "The dataset used in this analysis is a subset dataset from a much more comprehensive dataset. The comprehensive dataset includes all the games and plays for <font color=blue>ALL</font> the teams in the 2016 regular season and post season (playoffs). Since the Chicago Cubs won the 2016 World Series Championship and the team had not won in a long period of time, it is interesting to study what trends and patterns made this achievement possible. Therefore, the dataset presented in this analysis only focuses on the Chicago Cubs 2016 games in the regular season and post season."
   ]
  },
  {
   "cell_type": "markdown",
   "metadata": {},
   "source": [
    "<font color=red >To be deleted</font> - Describe the purpose of the data set you selected (i.e., why was this data collected in the first place?). Describe how you would define and measure the outcomes from the dataset. That is, why is this data important and how do you know if you have mined useful knowledge from the dataset? How would you measure the effectiveness of a good prediction algorithm? Be specific."
   ]
  },
  {
   "cell_type": "markdown",
   "metadata": {},
   "source": [
    "# Data Structure"
   ]
  },
  {
   "cell_type": "markdown",
   "metadata": {},
   "source": [
    "## Data Meaning Type"
   ]
  },
  {
   "cell_type": "markdown",
   "metadata": {},
   "source": [
    "Transaction, Record, Sequential, Graph\n",
    "Discrete: \n",
    "+ Nominal, \n",
    "+ Ordinal,\n",
    "+ Binary \n",
    "Continuous: Interval & Ratio\n",
    "+ Interval (temp in F), \n",
    "+ Ratio (contains absolute zero)\n",
    "\n",
    "something here\n",
    "\n",
    "### Data Columns - Overall Game\n",
    "\n",
    "|Section|Column  |Description  |Data Type  |Example Values  |Derived Y/N|\n",
    "|------ |------ |---------- |--------- |-------------- |-----|\n",
    "|Overall Game|game-id |A unique identifier assigned to each game |Nominal | these are GUIDs, so no particular range |N|\n",
    "|Overall Game|startTime |The date and time the game started |Interval | These are in 2016 mainly at noon or 6 PM |N|\n",
    "|Overall Game|attendance |The attedance of the game |Ratio | Approximately 30-40k with a left skew |N|\n",
    "|Overall Game|dayNight |Indicate of a day or night game |Binary | D = Day, N = Night|N|\n",
    "|Overall Game|duration |The overall elapsed time of the game |Ratio | Typical game is about 3 hours|N|\n",
    "|Overall Game|opponent |The name of the team playing against the cubes |Nominal | MLB Teams like: Twins, Rangers, etc.|Y|\n",
    "|Overall Game|HomeAway |Indicates a Home or Away game |Binary | H = Home, A = Away |Y|\n",
    "|Overall Game|VenueName |The Stadium the game was located at |Nominal | Wrigley Field, etc. |N|\n",
    "|Overall Score|homeFinalRuns |The score for the home team |Ratio | 0, 1, 2... |N|\n",
    "|Overall Score|awayFinalRuns |The score for the away team |Ratio | 0, 1, 2... |N|\n",
    "|Overall Score|CubsFinalRuns |The score for the Cubs |Ratio | 0, 1, 2... |Y|\n",
    "|Overall Score|OpponentFinalRuns |The score for the opposing team |Ratio | 0, 1, 2... |Y|\n",
    "|Overall Hits|homeFinalHits |The number of hits for the home team |Ratio | 0, 1, 2... |N|\n",
    "|Overall Hits|awayFinalHits |The number of hits for the away team |Ratio | 0, 1, 2... |N|\n",
    "|Overall Hits|CubsFinalHits |The number of hits for the Cubs |Ratio | 0, 1, 2... |Y|\n",
    "|Overall Hits|OpponentFinalHits |The number of hits for the opposing team |Ratio | 0, 1, 2... |Y|\n",
    "|Overall Errors|homeFinalErrors |The number of Errors for the home team |Ratio | 0, 1, 2... |N|\n",
    "|Overall Errors|awayFinalErrors |The number of Errors for the away team |Ratio | 0, 1, 2... |N|\n",
    "|Overall Errors|CubsFinalErrors |The number of Errors for the Cubs |Ratio | 0, 1, 2... |Y|\n",
    "|Overall Errors|OpponentFinalErrors |The number of Errors for the opposing team |Ratio | 0, 1, 2... |Y|\n",
    "\n",
    "### Data Columns - Inning Details\n",
    "Each game consists of 9 innings where each team get a turn to either field or bat. Innings are divided into the two parts by half's called TOP and BOTTOM, where during the TOP of the inning the away team hits while the home team fields. During the BOTTOM the teams switch. At the end of 9 innings whoever has the most \"Runs\" wins. In the event of a tie, the game continues with additional innings until there is a winner.\n",
    "\n",
    "|Section|Column  |Description  |Data Type  |Example Values  |Derived Y/N|\n",
    "|------ |------ |---------- |--------- |-------------- |-----|\n",
    "|Inning|InningNumber |A sequential number for each inning. |Nominal | these are GUIDs, so no particular range |N|\n",
    "\n",
    "\n",
    "\n",
    "\n",
    "|game-id |status |determins if a play is |Nominal |officia, overturned & upheld|\n",
    "|game-id |status |determins if a play is |Nominal |officia, overturned & upheld|"
   ]
  },
  {
   "cell_type": "markdown",
   "metadata": {},
   "source": [
    "## Data Quality"
   ]
  },
  {
   "cell_type": "markdown",
   "metadata": {},
   "source": [
    "The original dataset does not contain any major quality problems. The size of the dataset, however, make the data cleanining time consuming. "
   ]
  },
  {
   "cell_type": "markdown",
   "metadata": {},
   "source": [
    "To be deleted - Verify data quality: Explain any missing values, duplicate data, and outliers. Are those mistakes? How do you deal with these problems? Give justifications for your methods."
   ]
  },
  {
   "cell_type": "markdown",
   "metadata": {},
   "source": [
    "## Simple Statistics"
   ]
  },
  {
   "cell_type": "markdown",
   "metadata": {},
   "source": [
    "To be deleted - Visualize appropriate statistics (e.g., range, mode, mean, median, variance, counts) for a subset of attributes. Describe anything meaningful you found from this or if you found something potentially interesting. Note: You can also use data from other sources for comparison. Explain why the statistics run are meaningful."
   ]
  },
  {
   "cell_type": "markdown",
   "metadata": {},
   "source": [
    "## Visualize Attributes"
   ]
  },
  {
   "cell_type": "markdown",
   "metadata": {},
   "source": [
    "To be deleted - Visualize the most interesting attributes (at least 5 attributes, your opinion on what is interesting). Important: Interpret the implications for each visualization. Explain for each attribute why the chosen visualization is appropriate."
   ]
  },
  {
   "cell_type": "markdown",
   "metadata": {},
   "source": [
    "## Explore Joint Attributes"
   ]
  },
  {
   "cell_type": "markdown",
   "metadata": {},
   "source": [
    "To be deleted - Visualize relationships between attributes: Look at the attributes via scatter plots, correlation, cross-tabulation, group-wise averages, etc. as appropriate. Explain any interesting relationships."
   ]
  },
  {
   "cell_type": "markdown",
   "metadata": {},
   "source": [
    "## Explore Attributes and Class"
   ]
  },
  {
   "cell_type": "markdown",
   "metadata": {},
   "source": [
    "To be deleted - Identify and explain interesting relationships between features and the class you are trying to predict (i.e., relationships with variables and the target classification)."
   ]
  },
  {
   "cell_type": "markdown",
   "metadata": {},
   "source": [
    "## New Features"
   ]
  },
  {
   "cell_type": "markdown",
   "metadata": {},
   "source": [
    "To be deleted - Are there other features that could be added to the data or created from existing features? Which ones?"
   ]
  },
  {
   "cell_type": "markdown",
   "metadata": {},
   "source": [
    "## Exceptional Work"
   ]
  },
  {
   "cell_type": "markdown",
   "metadata": {},
   "source": [
    "To be deleted - You have free reign to provide additional analyses. One idea: implement dimensionality reduction, then visualize and interpret the results."
   ]
  }
 ],
 "metadata": {
  "kernelspec": {
   "display_name": "Python 3",
   "language": "python",
   "name": "python3"
  },
  "language_info": {
   "codemirror_mode": {
    "name": "ipython",
    "version": 3
   },
   "file_extension": ".py",
   "mimetype": "text/x-python",
   "name": "python",
   "nbconvert_exporter": "python",
   "pygments_lexer": "ipython3",
   "version": "3.6.3"
  }
 },
 "nbformat": 4,
 "nbformat_minor": 2
}
